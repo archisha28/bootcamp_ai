{
 "cells": [
  {
   "cell_type": "code",
   "execution_count": 1,
   "id": "34efbc30-c505-4f49-9665-e00dd88ce948",
   "metadata": {},
   "outputs": [
    {
     "name": "stdout",
     "output_type": "stream",
     "text": [
      "Requirement already satisfied: nltk in d:\\anaconda\\lib\\site-packages (3.9.1)\n",
      "Requirement already satisfied: click in d:\\anaconda\\lib\\site-packages (from nltk) (8.1.7)\n",
      "Requirement already satisfied: joblib in d:\\anaconda\\lib\\site-packages (from nltk) (1.4.2)\n",
      "Requirement already satisfied: regex>=2021.8.3 in d:\\anaconda\\lib\\site-packages (from nltk) (2024.9.11)\n",
      "Requirement already satisfied: tqdm in d:\\anaconda\\lib\\site-packages (from nltk) (4.66.5)\n",
      "Requirement already satisfied: colorama in d:\\anaconda\\lib\\site-packages (from click->nltk) (0.4.6)\n"
     ]
    }
   ],
   "source": [
    "!pip install nltk"
   ]
  },
  {
   "cell_type": "code",
   "execution_count": 3,
   "id": "fb034dd1-fd24-4f25-a09f-cfd82da8231f",
   "metadata": {},
   "outputs": [
    {
     "name": "stderr",
     "output_type": "stream",
     "text": [
      "[nltk_data] Downloading package punkt to\n",
      "[nltk_data]     C:\\Users\\dell\\AppData\\Roaming\\nltk_data...\n",
      "[nltk_data]   Unzipping tokenizers\\punkt.zip.\n",
      "[nltk_data] Downloading package stopwords to\n",
      "[nltk_data]     C:\\Users\\dell\\AppData\\Roaming\\nltk_data...\n",
      "[nltk_data]   Unzipping corpora\\stopwords.zip.\n",
      "[nltk_data] Downloading package wordnet to\n",
      "[nltk_data]     C:\\Users\\dell\\AppData\\Roaming\\nltk_data...\n",
      "[nltk_data] Downloading package averaged_perceptron_tagger to\n",
      "[nltk_data]     C:\\Users\\dell\\AppData\\Roaming\\nltk_data...\n",
      "[nltk_data]   Unzipping taggers\\averaged_perceptron_tagger.zip.\n",
      "[nltk_data] Downloading package punkt_tab to\n",
      "[nltk_data]     C:\\Users\\dell\\AppData\\Roaming\\nltk_data...\n",
      "[nltk_data]   Unzipping tokenizers\\punkt_tab.zip.\n",
      "[nltk_data] Downloading package averaged_perceptron_tagger_eng to\n",
      "[nltk_data]     C:\\Users\\dell\\AppData\\Roaming\\nltk_data...\n",
      "[nltk_data]   Unzipping taggers\\averaged_perceptron_tagger_eng.zip.\n"
     ]
    },
    {
     "data": {
      "text/plain": [
       "True"
      ]
     },
     "execution_count": 3,
     "metadata": {},
     "output_type": "execute_result"
    }
   ],
   "source": [
    "import nltk\n",
    "from nltk.tokenize import sent_tokenize, word_tokenize\n",
    "from nltk.corpus import stopwords\n",
    "from nltk.stem import PorterStemmer\n",
    "from nltk.stem import WordNetLemmatizer\n",
    "\n",
    "nltk.download('punkt')\n",
    "nltk.download('stopwords')\n",
    "nltk.download('wordnet')\n",
    "nltk.download('averaged_perceptron_tagger')\n",
    "nltk.download('punkt_tab')\n",
    "nltk.download('averaged_perceptron_tagger_eng')"
   ]
  },
  {
   "cell_type": "code",
   "execution_count": 7,
   "id": "a8409cc6-4a99-4336-844a-33d0bfa193ca",
   "metadata": {},
   "outputs": [],
   "source": [
    "with open('assignment.txt', 'r') as file:\n",
    "    text = file.read() "
   ]
  },
  {
   "cell_type": "code",
   "execution_count": 9,
   "id": "2f39a10c-e1e0-44da-8e82-78fc369fd122",
   "metadata": {},
   "outputs": [
    {
     "name": "stdout",
     "output_type": "stream",
     "text": [
      "Sentences: ['Photography is an art that captures the beauty of moments in time.', \"Whether it's a landscape, portrait, or an event, a photograph can tell a powerful story.\", 'Great photographers use their cameras as tools to convey emotions, memories, and scenes from everyday life.', 'The composition, lighting, and timing of a shot are key elements in creating stunning photos.', 'Photography also plays a significant role in digital media, social media, and marketing.', 'The evolution of camera technology, from film cameras to digital cameras, has revolutionized how we capture images.', 'Every photograph is a unique creation, reflecting the photographer\\'s perspective and artistic style.\"']\n",
      "Words: ['Photography', 'is', 'an', 'art', 'that', 'captures', 'the', 'beauty', 'of', 'moments', 'in', 'time', '.', 'Whether', 'it', \"'s\", 'a', 'landscape', ',', 'portrait', ',', 'or', 'an', 'event', ',', 'a', 'photograph', 'can', 'tell', 'a', 'powerful', 'story', '.', 'Great', 'photographers', 'use', 'their', 'cameras', 'as', 'tools', 'to', 'convey', 'emotions', ',', 'memories', ',', 'and', 'scenes', 'from', 'everyday', 'life', '.', 'The', 'composition', ',', 'lighting', ',', 'and', 'timing', 'of', 'a', 'shot', 'are', 'key', 'elements', 'in', 'creating', 'stunning', 'photos', '.', 'Photography', 'also', 'plays', 'a', 'significant', 'role', 'in', 'digital', 'media', ',', 'social', 'media', ',', 'and', 'marketing', '.', 'The', 'evolution', 'of', 'camera', 'technology', ',', 'from', 'film', 'cameras', 'to', 'digital', 'cameras', ',', 'has', 'revolutionized', 'how', 'we', 'capture', 'images', '.', 'Every', 'photograph', 'is', 'a', 'unique', 'creation', ',', 'reflecting', 'the', 'photographer', \"'s\", 'perspective', 'and', 'artistic', 'style', '.', \"''\"]\n"
     ]
    }
   ],
   "source": [
    "sentences = sent_tokenize(text)\n",
    "words = word_tokenize(text)\n",
    "\n",
    "print(\"Sentences:\", sentences)\n",
    "print(\"Words:\", words)"
   ]
  },
  {
   "cell_type": "code",
   "execution_count": 11,
   "id": "8ffc7c3d-35bf-4b50-bf8c-481b819d72af",
   "metadata": {},
   "outputs": [
    {
     "name": "stdout",
     "output_type": "stream",
     "text": [
      "Filtered Words: ['Photography', 'art', 'captures', 'beauty', 'moments', 'time', 'Whether', 'landscape', 'portrait', 'event', 'photograph', 'tell', 'powerful', 'story', 'Great', 'photographers', 'use', 'cameras', 'tools', 'convey', 'emotions', 'memories', 'scenes', 'everyday', 'life', 'The', 'composition', 'lighting', 'timing', 'shot', 'key', 'elements', 'creating', 'stunning', 'photos', 'Photography', 'also', 'plays', 'significant', 'role', 'digital', 'media', 'social', 'media', 'marketing', 'The', 'evolution', 'camera', 'technology', 'film', 'cameras', 'digital', 'cameras', 'revolutionized', 'capture', 'images', 'Every', 'photograph', 'unique', 'creation', 'reflecting', 'photographer', 'perspective', 'artistic', 'style']\n"
     ]
    }
   ],
   "source": [
    "stop_words = set(stopwords.words('english'))\n",
    "filtered_words = [word for word in words if word.isalpha() and word not in stop_words]\n",
    "\n",
    "print(\"Filtered Words:\", filtered_words)"
   ]
  },
  {
   "cell_type": "code",
   "execution_count": 13,
   "id": "244e48d0-f86b-48b7-a5f3-faee886664e0",
   "metadata": {},
   "outputs": [
    {
     "name": "stdout",
     "output_type": "stream",
     "text": [
      "Stemmed Words: ['photographi', 'art', 'captur', 'beauti', 'moment', 'time', 'whether', 'landscap', 'portrait', 'event', 'photograph', 'tell', 'power', 'stori', 'great', 'photograph', 'use', 'camera', 'tool', 'convey', 'emot', 'memori', 'scene', 'everyday', 'life', 'the', 'composit', 'light', 'time', 'shot', 'key', 'element', 'creat', 'stun', 'photo', 'photographi', 'also', 'play', 'signific', 'role', 'digit', 'media', 'social', 'media', 'market', 'the', 'evolut', 'camera', 'technolog', 'film', 'camera', 'digit', 'camera', 'revolution', 'captur', 'imag', 'everi', 'photograph', 'uniqu', 'creation', 'reflect', 'photograph', 'perspect', 'artist', 'style']\n"
     ]
    }
   ],
   "source": [
    "stemmer = PorterStemmer()\n",
    "stemmed_words = [stemmer.stem(word) for word in filtered_words]\n",
    "\n",
    "print(\"Stemmed Words:\", stemmed_words)"
   ]
  },
  {
   "cell_type": "code",
   "execution_count": 15,
   "id": "7ebbd22d-8247-4fd2-b428-909c0cbe2a38",
   "metadata": {},
   "outputs": [
    {
     "name": "stdout",
     "output_type": "stream",
     "text": [
      "Lemmatized Words: ['Photography', 'art', 'capture', 'beauty', 'moment', 'time', 'Whether', 'landscape', 'portrait', 'event', 'photograph', 'tell', 'powerful', 'story', 'Great', 'photographer', 'use', 'camera', 'tool', 'convey', 'emotion', 'memory', 'scene', 'everyday', 'life', 'The', 'composition', 'lighting', 'timing', 'shot', 'key', 'element', 'creating', 'stunning', 'photo', 'Photography', 'also', 'play', 'significant', 'role', 'digital', 'medium', 'social', 'medium', 'marketing', 'The', 'evolution', 'camera', 'technology', 'film', 'camera', 'digital', 'camera', 'revolutionized', 'capture', 'image', 'Every', 'photograph', 'unique', 'creation', 'reflecting', 'photographer', 'perspective', 'artistic', 'style']\n"
     ]
    }
   ],
   "source": [
    "lemmatizer = WordNetLemmatizer()\n",
    "lemmatized_words = [lemmatizer.lemmatize(word) for word in filtered_words]\n",
    "\n",
    "print(\"Lemmatized Words:\", lemmatized_words)"
   ]
  },
  {
   "cell_type": "code",
   "execution_count": 17,
   "id": "7035b7c7-4cd9-4ab3-a792-b01934ccfe7a",
   "metadata": {},
   "outputs": [
    {
     "name": "stdout",
     "output_type": "stream",
     "text": [
      "Word Frequencies: Counter({',': 12, '.': 7, 'a': 6, 'and': 4, 'of': 3, 'in': 3, 'cameras': 3, 'Photography': 2, 'is': 2, 'an': 2, 'the': 2, \"'s\": 2, 'photograph': 2, 'to': 2, 'from': 2, 'The': 2, 'digital': 2, 'media': 2, 'art': 1, 'that': 1, 'captures': 1, 'beauty': 1, 'moments': 1, 'time': 1, 'Whether': 1, 'it': 1, 'landscape': 1, 'portrait': 1, 'or': 1, 'event': 1, 'can': 1, 'tell': 1, 'powerful': 1, 'story': 1, 'Great': 1, 'photographers': 1, 'use': 1, 'their': 1, 'as': 1, 'tools': 1, 'convey': 1, 'emotions': 1, 'memories': 1, 'scenes': 1, 'everyday': 1, 'life': 1, 'composition': 1, 'lighting': 1, 'timing': 1, 'shot': 1, 'are': 1, 'key': 1, 'elements': 1, 'creating': 1, 'stunning': 1, 'photos': 1, 'also': 1, 'plays': 1, 'significant': 1, 'role': 1, 'social': 1, 'marketing': 1, 'evolution': 1, 'camera': 1, 'technology': 1, 'film': 1, 'has': 1, 'revolutionized': 1, 'how': 1, 'we': 1, 'capture': 1, 'images': 1, 'Every': 1, 'unique': 1, 'creation': 1, 'reflecting': 1, 'photographer': 1, 'perspective': 1, 'artistic': 1, 'style': 1, \"''\": 1})\n"
     ]
    }
   ],
   "source": [
    "from collections import Counter\n",
    "\n",
    "word_freq = Counter(words)\n",
    "print(\"Word Frequencies:\", word_freq)"
   ]
  },
  {
   "cell_type": "code",
   "execution_count": 19,
   "id": "270316e9-5888-4035-abb6-e1f3cced4ad2",
   "metadata": {},
   "outputs": [
    {
     "ename": "ModuleNotFoundError",
     "evalue": "No module named 'wordcloud'",
     "output_type": "error",
     "traceback": [
      "\u001b[1;31m---------------------------------------------------------------------------\u001b[0m",
      "\u001b[1;31mModuleNotFoundError\u001b[0m                       Traceback (most recent call last)",
      "Cell \u001b[1;32mIn[19], line 1\u001b[0m\n\u001b[1;32m----> 1\u001b[0m \u001b[38;5;28;01mfrom\u001b[39;00m \u001b[38;5;21;01mwordcloud\u001b[39;00m \u001b[38;5;28;01mimport\u001b[39;00m WordCloud\n\u001b[0;32m      3\u001b[0m wordcloud \u001b[38;5;241m=\u001b[39m WordCloud(width\u001b[38;5;241m=\u001b[39m\u001b[38;5;241m600\u001b[39m, height\u001b[38;5;241m=\u001b[39m\u001b[38;5;241m300\u001b[39m, background_color\u001b[38;5;241m=\u001b[39m\u001b[38;5;124m'\u001b[39m\u001b[38;5;124mwhite\u001b[39m\u001b[38;5;124m'\u001b[39m)\u001b[38;5;241m.\u001b[39mgenerate_from_frequencies(word_freq)\n",
      "\u001b[1;31mModuleNotFoundError\u001b[0m: No module named 'wordcloud'"
     ]
    }
   ],
   "source": [
    "from wordcloud import WordCloud\n",
    "\n",
    "wordcloud = WordCloud(width=600, height=300, background_color='white').generate_from_frequencies(word_freq)"
   ]
  },
  {
   "cell_type": "code",
   "execution_count": 21,
   "id": "1cea02cd-be50-46d8-ab6a-80e900d848ad",
   "metadata": {},
   "outputs": [
    {
     "name": "stdout",
     "output_type": "stream",
     "text": [
      "Collecting wordcloud\n",
      "  Downloading wordcloud-1.9.4-cp312-cp312-win_amd64.whl.metadata (3.5 kB)\n",
      "Requirement already satisfied: numpy>=1.6.1 in d:\\anaconda\\lib\\site-packages (from wordcloud) (1.26.4)\n",
      "Requirement already satisfied: pillow in d:\\anaconda\\lib\\site-packages (from wordcloud) (10.4.0)\n",
      "Requirement already satisfied: matplotlib in d:\\anaconda\\lib\\site-packages (from wordcloud) (3.9.2)\n",
      "Requirement already satisfied: contourpy>=1.0.1 in d:\\anaconda\\lib\\site-packages (from matplotlib->wordcloud) (1.2.0)\n",
      "Requirement already satisfied: cycler>=0.10 in d:\\anaconda\\lib\\site-packages (from matplotlib->wordcloud) (0.11.0)\n",
      "Requirement already satisfied: fonttools>=4.22.0 in d:\\anaconda\\lib\\site-packages (from matplotlib->wordcloud) (4.51.0)\n",
      "Requirement already satisfied: kiwisolver>=1.3.1 in d:\\anaconda\\lib\\site-packages (from matplotlib->wordcloud) (1.4.4)\n",
      "Requirement already satisfied: packaging>=20.0 in d:\\anaconda\\lib\\site-packages (from matplotlib->wordcloud) (24.1)\n",
      "Requirement already satisfied: pyparsing>=2.3.1 in d:\\anaconda\\lib\\site-packages (from matplotlib->wordcloud) (3.1.2)\n",
      "Requirement already satisfied: python-dateutil>=2.7 in d:\\anaconda\\lib\\site-packages (from matplotlib->wordcloud) (2.9.0.post0)\n",
      "Requirement already satisfied: six>=1.5 in d:\\anaconda\\lib\\site-packages (from python-dateutil>=2.7->matplotlib->wordcloud) (1.16.0)\n",
      "Downloading wordcloud-1.9.4-cp312-cp312-win_amd64.whl (301 kB)\n",
      "Installing collected packages: wordcloud\n",
      "Successfully installed wordcloud-1.9.4\n"
     ]
    }
   ],
   "source": [
    "!pip install wordcloud"
   ]
  },
  {
   "cell_type": "code",
   "execution_count": 23,
   "id": "d3b586e5-b15a-4a51-b9ae-22f865a3113d",
   "metadata": {},
   "outputs": [],
   "source": [
    "from wordcloud import WordCloud\n",
    "\n",
    "wordcloud = WordCloud(width=800, height=400, background_color='white').generate_from_frequencies(word_freq)"
   ]
  },
  {
   "cell_type": "code",
   "execution_count": null,
   "id": "138afd4e-9788-4d99-9e9d-0a6d848ed6ab",
   "metadata": {},
   "outputs": [],
   "source": []
  }
 ],
 "metadata": {
  "kernelspec": {
   "display_name": "Python [conda env:base] *",
   "language": "python",
   "name": "conda-base-py"
  },
  "language_info": {
   "codemirror_mode": {
    "name": "ipython",
    "version": 3
   },
   "file_extension": ".py",
   "mimetype": "text/x-python",
   "name": "python",
   "nbconvert_exporter": "python",
   "pygments_lexer": "ipython3",
   "version": "3.12.7"
  }
 },
 "nbformat": 4,
 "nbformat_minor": 5
}
