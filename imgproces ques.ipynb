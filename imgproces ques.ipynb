{
 "cells": [
  {
   "cell_type": "code",
   "execution_count": 1,
   "id": "23bd3d1e-327f-4a06-8b1a-40426ad11ade",
   "metadata": {},
   "outputs": [
    {
     "name": "stdout",
     "output_type": "stream",
     "text": [
      "Requirement already satisfied: opencv-python in d:\\anaconda\\lib\\site-packages (4.10.0.84)\n",
      "Requirement already satisfied: numpy>=1.21.2 in d:\\anaconda\\lib\\site-packages (from opencv-python) (1.26.4)\n"
     ]
    }
   ],
   "source": [
    "!pip install opencv-python"
   ]
  },
  {
   "cell_type": "code",
   "execution_count": 3,
   "id": "569c477c-f959-4efe-9408-c30533494ef8",
   "metadata": {},
   "outputs": [],
   "source": [
    "import cv2\n",
    "import numpy as np\n",
    "import matplotlib.pyplot as plt"
   ]
  },
  {
   "cell_type": "code",
   "execution_count": 5,
   "id": "90b7639a-9c2d-4b56-92cd-2e30f098eebe",
   "metadata": {},
   "outputs": [],
   "source": [
    "img = cv2.imread(r\"bcd.jpg\")"
   ]
  },
  {
   "cell_type": "code",
   "execution_count": 7,
   "id": "68fdf157-365f-4bac-bf94-8dffc286394b",
   "metadata": {},
   "outputs": [
    {
     "name": "stdout",
     "output_type": "stream",
     "text": [
      "<class 'numpy.ndarray'>\n"
     ]
    }
   ],
   "source": [
    "print(type(img))"
   ]
  },
  {
   "cell_type": "code",
   "execution_count": null,
   "id": "74d7a588-1952-44f2-ab14-9dc690042456",
   "metadata": {},
   "outputs": [],
   "source": [
    "cv2.imshow(\"assignment\", img)"
   ]
  },
  {
   "cell_type": "code",
   "execution_count": null,
   "id": "bc8d51bb-ed71-4fe1-8567-93131d6d86c7",
   "metadata": {},
   "outputs": [],
   "source": [
    "cv2.waitKey(0)\n",
    "cv2.destroyAllWindows()"
   ]
  },
  {
   "cell_type": "code",
   "execution_count": null,
   "id": "0b89aa79-e89d-485c-8d90-d2631b008d0c",
   "metadata": {},
   "outputs": [],
   "source": [
    "print(img.shape)"
   ]
  },
  {
   "cell_type": "code",
   "execution_count": null,
   "id": "65435543-ada1-46a6-ae3d-81a1507a29b0",
   "metadata": {},
   "outputs": [],
   "source": [
    "img_resize = cv2.resize(img,(400,256))"
   ]
  },
  {
   "cell_type": "code",
   "execution_count": null,
   "id": "7feaf92b-da9e-4dfc-88d5-bbb2282264d9",
   "metadata": {},
   "outputs": [],
   "source": [
    "cv2.imshow(\"practical assignment\" ,img_resize)\n",
    "cv2.waitKey(0)\n",
    "cv2.destroyAllWindows()"
   ]
  },
  {
   "cell_type": "code",
   "execution_count": null,
   "id": "32b7a284-19b4-493d-a402-8684b528a082",
   "metadata": {},
   "outputs": [],
   "source": [
    "print(img_resize.shape)"
   ]
  },
  {
   "cell_type": "code",
   "execution_count": null,
   "id": "a7860358-6572-4b58-8e11-d6337cfe76f3",
   "metadata": {},
   "outputs": [],
   "source": [
    "img_flip = cv2.flip(img,1)"
   ]
  },
  {
   "cell_type": "code",
   "execution_count": null,
   "id": "22a272d2-fd57-4885-b273-31f2f634278a",
   "metadata": {},
   "outputs": [],
   "source": [
    "cv2.imshow(\"flipped image\" ,img_flip)\n",
    "cv2.waitKey(0)\n",
    "cv2.destroyAllWindows()"
   ]
  },
  {
   "cell_type": "code",
   "execution_count": null,
   "id": "0d07c4e0-26cd-4c82-8472-35009a70ed1f",
   "metadata": {},
   "outputs": [],
   "source": [
    "img_flip1 = cv2.flip(img,0)"
   ]
  },
  {
   "cell_type": "code",
   "execution_count": null,
   "id": "6189a2f9-c164-4a33-9ba3-dfaa20e78818",
   "metadata": {},
   "outputs": [],
   "source": [
    "cv2.imshow(\"flipped image\" ,img_flip1)\n",
    "cv2.waitKey(0)\n",
    "cv2.destroyAllWindows()"
   ]
  },
  {
   "cell_type": "code",
   "execution_count": null,
   "id": "31763056-e91e-41de-bfc3-3cf21c90d04b",
   "metadata": {},
   "outputs": [],
   "source": []
  }
 ],
 "metadata": {
  "kernelspec": {
   "display_name": "Python [conda env:base] *",
   "language": "python",
   "name": "conda-base-py"
  },
  "language_info": {
   "codemirror_mode": {
    "name": "ipython",
    "version": 3
   },
   "file_extension": ".py",
   "mimetype": "text/x-python",
   "name": "python",
   "nbconvert_exporter": "python",
   "pygments_lexer": "ipython3",
   "version": "3.12.7"
  }
 },
 "nbformat": 4,
 "nbformat_minor": 5
}
