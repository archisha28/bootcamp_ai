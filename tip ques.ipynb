{
 "cells": [
  {
   "cell_type": "code",
   "execution_count": 1,
   "id": "25e2a27e-4c4a-4dba-a81e-bbbfaa6adae6",
   "metadata": {},
   "outputs": [],
   "source": [
    "import pandas as pd"
   ]
  },
  {
   "cell_type": "code",
   "execution_count": 3,
   "id": "d6e54301-f6c5-4004-b8bb-66630285c8db",
   "metadata": {},
   "outputs": [],
   "source": [
    "dataset_url=\"tips.csv\"\n",
    "df=pd.read_csv(dataset_url)"
   ]
  },
  {
   "cell_type": "code",
   "execution_count": null,
   "id": "694b7e28-f8fd-4f89-83f0-622f62a1d8b8",
   "metadata": {},
   "outputs": [],
   "source": [
    "fig=plt.figure(figsize=(10,7)\n",
    "plt.pie(               "
   ]
  }
 ],
 "metadata": {
  "kernelspec": {
   "display_name": "Python [conda env:base] *",
   "language": "python",
   "name": "conda-base-py"
  },
  "language_info": {
   "codemirror_mode": {
    "name": "ipython",
    "version": 3
   },
   "file_extension": ".py",
   "mimetype": "text/x-python",
   "name": "python",
   "nbconvert_exporter": "python",
   "pygments_lexer": "ipython3",
   "version": "3.12.7"
  }
 },
 "nbformat": 4,
 "nbformat_minor": 5
}
